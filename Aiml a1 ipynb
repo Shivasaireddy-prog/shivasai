{
  "nbformat": 4,
  "nbformat_minor": 0,
  "metadata": {
    "colab": {
      "provenance": [],
      "authorship_tag": "ABX9TyM4CkxVlXSx5CSLDpRkiF1B",
      "include_colab_link": true
    },
    "kernelspec": {
      "name": "python3",
      "display_name": "Python 3"
    },
    "language_info": {
      "name": "python"
    }
  },
  "cells": [
    {
      "cell_type": "markdown",
      "metadata": {
        "id": "view-in-github",
        "colab_type": "text"
      },
      "source": [
        "<a href=\"https://colab.research.google.com/github/Shivasaireddy-prog/shivasai/blob/main/Untitled2.ipynb\" target=\"_parent\"><img src=\"https://colab.research.google.com/assets/colab-badge.svg\" alt=\"Open In Colab\"/></a>"
      ]
    },
    {
      "cell_type": "code",
      "execution_count": 1,
      "metadata": {
        "colab": {
          "base_uri": "https://localhost:8080/"
        },
        "id": "ZcTfildHxMwu",
        "outputId": "ab010db6-d175-435c-9208-da629a98df00"
      },
      "outputs": [
        {
          "output_type": "stream",
          "name": "stdout",
          "text": [
            "1\n",
            "apple\n"
          ]
        }
      ],
      "source": [
        "# Creating a list\n",
        "my_list = [1, 2, 3, 'apple', True]\n",
        "\n",
        "print(my_list[0])\n",
        "print(my_list[3])\n",
        "\n"
      ]
    }
  ]
}
