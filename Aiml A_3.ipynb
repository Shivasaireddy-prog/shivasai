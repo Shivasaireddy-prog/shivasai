{
  "nbformat": 4,
  "nbformat_minor": 0,
  "metadata": {
    "colab": {
      "provenance": [],
      "authorship_tag": "ABX9TyOOX+O0phBDvAVEA5dQmxHP",
      "include_colab_link": true
    },
    "kernelspec": {
      "name": "python3",
      "display_name": "Python 3"
    },
    "language_info": {
      "name": "python"
    }
  },
  "cells": [
    {
      "cell_type": "markdown",
      "metadata": {
        "id": "view-in-github",
        "colab_type": "text"
      },
      "source": [
        "<a href=\"https://colab.research.google.com/github/Shivasaireddy-prog/shivasai/blob/main/untitled5.ipynb\" target=\"_parent\"><img src=\"https://colab.research.google.com/assets/colab-badge.svg\" alt=\"Open In Colab\"/></a>"
      ]
    },
    {
      "cell_type": "code",
      "source": [
        "import numpy as np\n",
        "\n",
        "# ndarray\n",
        "arr = np.array([1, 2, 3])\n",
        "print(type(arr))\n",
        "mat = np.matrix([[1, 2], [3, 4]])\n",
        "print(type(mat))\n",
        "\n",
        "print(type(arr[0]))"
      ],
      "metadata": {
        "colab": {
          "base_uri": "https://localhost:8080/"
        },
        "id": "8pn6Xv7h3mOQ",
        "outputId": "4a8aa803-2fb9-4e94-fa19-71df5038d33e"
      },
      "execution_count": 2,
      "outputs": [
        {
          "output_type": "stream",
          "name": "stdout",
          "text": [
            "<class 'numpy.ndarray'>\n",
            "<class 'numpy.matrix'>\n",
            "<class 'numpy.int64'>\n"
          ]
        }
      ]
    },
    {
      "cell_type": "code",
      "execution_count": 3,
      "metadata": {
        "id": "cqMhNl9C2FQ8",
        "colab": {
          "base_uri": "https://localhost:8080/"
        },
        "outputId": "4be4bc0a-90fb-4997-c710-d61eee60ce27"
      },
      "outputs": [
        {
          "output_type": "stream",
          "name": "stdout",
          "text": [
            "[1 2 3]\n",
            "[[1 2 3]\n",
            " [4 5 6]]\n"
          ]
        }
      ],
      "source": [
        "import numpy as np\n",
        "\n",
        "arr1 = np.array([1, 2, 3])\n",
        "\n",
        "arr2 = np.array([[1, 2, 3], [4, 5, 6]])\n",
        "print(arr1)\n",
        "print(arr2)"
      ]
    },
    {
      "cell_type": "code",
      "source": [
        "import numpy as np\n",
        "\n",
        "# Create two arrays\n",
        "arr1 = np.array([1, 2, 3])\n",
        "arr2 = np.array([4, 5, 6])\n",
        "\n",
        "# Multiplication\n",
        "result_mult = arr1 * arr2\n",
        "print(\"Multiplication:\", result_mult)\n",
        "\n",
        "# Division\n",
        "result_div = arr1 / arr2\n",
        "print(\"Division:\", result_div)\n",
        "\n",
        "# Power\n",
        "result_pow = arr1 ** 2\n",
        "print(\"Power:\", result_pow)"
      ],
      "metadata": {
        "colab": {
          "base_uri": "https://localhost:8080/"
        },
        "id": "Q1qwr25z43D5",
        "outputId": "a323927c-b130-4a80-daf3-800cb70c147a"
      },
      "execution_count": 4,
      "outputs": [
        {
          "output_type": "stream",
          "name": "stdout",
          "text": [
            "Multiplication: [ 4 10 18]\n",
            "Division: [0.25 0.4  0.5 ]\n",
            "Power: [1 4 9]\n"
          ]
        }
      ]
    },
    {
      "cell_type": "code",
      "source": [
        "import numpy as np\n",
        "\n",
        "# Create two arrays\n",
        "arr1 = np.array([1, 2, 3])\n",
        "arr2 = np.array([4, 5, 6])\n",
        "\n",
        "# addition\n",
        "result = arr1+arr2\n",
        "print(result)\n",
        "\n"
      ],
      "metadata": {
        "colab": {
          "base_uri": "https://localhost:8080/"
        },
        "id": "ZX1CfQVR6PRh",
        "outputId": "1bdbca8b-0992-4266-c904-fb731a3dad31"
      },
      "execution_count": 5,
      "outputs": [
        {
          "output_type": "stream",
          "name": "stdout",
          "text": [
            "[5 7 9]\n"
          ]
        }
      ]
    },
    {
      "cell_type": "code",
      "source": [
        "import numpy as np\n",
        "\n",
        "arr = np.array([1, 2, 3])\n",
        "\n",
        "# Sine of each element in the array\n",
        "sin_result = np.sin(arr)\n",
        "print(\"Sine:\", sin_result)\n",
        "\n",
        "# Natural log of each element in the array\n",
        "log_result = np.log(arr)\n",
        "print(\"Natural Log:\", log_result)\n",
        "\n",
        "# Base-2 log of each element in the array\n",
        "log2_result = np.log2(arr)\n",
        "print(\"Base-2 Log:\", log2_result)\n",
        "\n",
        "# Exponential of each element in the array\n",
        "exp_result = np.exp(arr)\n",
        "print(\"Exponential:\", exp_result)"
      ],
      "metadata": {
        "id": "CCsEcC5Q69-h",
        "outputId": "9b206195-deb8-4aa5-e88b-f07698a15926",
        "colab": {
          "base_uri": "https://localhost:8080/"
        }
      },
      "execution_count": 6,
      "outputs": [
        {
          "output_type": "stream",
          "name": "stdout",
          "text": [
            "Sine: [0.84147098 0.90929743 0.14112001]\n",
            "Natural Log: [0.         0.69314718 1.09861229]\n",
            "Base-2 Log: [0.        1.        1.5849625]\n",
            "Exponential: [ 2.71828183  7.3890561  20.08553692]\n"
          ]
        }
      ]
    }
  ]
}
